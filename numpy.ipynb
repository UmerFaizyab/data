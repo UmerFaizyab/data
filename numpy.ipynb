{
 "cells": [
  {
   "cell_type": "code",
   "execution_count": 15,
   "id": "e4ac73c4-0fd1-4add-a38e-bac4ca919c6a",
   "metadata": {},
   "outputs": [
    {
     "data": {
      "text/plain": [
       "array([ 0,  2,  4,  6,  8, 10, 12, 14, 16, 18])"
      ]
     },
     "execution_count": 15,
     "metadata": {},
     "output_type": "execute_result"
    }
   ],
   "source": [
    "import numpy as np\n",
    "np_arr1 = np.arange(10)\n",
    "np_arr2 = np.arange(10)\n",
    "np_arr1 + np_arr2"
   ]
  },
  {
   "cell_type": "code",
   "execution_count": 16,
   "id": "4ede87f8-d255-4821-b20c-aeeec185f152",
   "metadata": {},
   "outputs": [
    {
     "data": {
      "text/plain": [
       "array([ 0,  1,  4,  9, 16, 25, 36, 49, 64, 81])"
      ]
     },
     "execution_count": 16,
     "metadata": {},
     "output_type": "execute_result"
    }
   ],
   "source": [
    "np_arr1 * np_arr2"
   ]
  },
  {
   "cell_type": "code",
   "execution_count": 39,
   "id": "4577085a-174a-40c1-b6bc-bf7741839b67",
   "metadata": {},
   "outputs": [],
   "source": [
    "random_array = np.random.randint(0, 100, size=(100)) "
   ]
  },
  {
   "cell_type": "code",
   "execution_count": 28,
   "id": "e59726d8-2e88-46a2-b202-3e372492966d",
   "metadata": {},
   "outputs": [
    {
     "name": "stdout",
     "output_type": "stream",
     "text": [
      "[81 11 48 11 41 72 97 14 71 59 87 58 61 81 24 82 94  1 94 81 97 78  8 53\n",
      " 28 67 66 74 13 64 29 74 23 53 11 75 99  0 59 41 41 91 88 69 82 47 38 75\n",
      " 18 72 19 15 22 18 73 90 82 37 23 23 91 41 25 98  1 14  4 49 25 16 62 40\n",
      " 62 18 26 97 11 68 16 66 64 66 26  4 31 27  4 31  8 71 96 19 99 48 36 18\n",
      " 61 38 65 65]\n"
     ]
    }
   ],
   "source": [
    "print(random_array)"
   ]
  },
  {
   "cell_type": "code",
   "execution_count": 29,
   "id": "bbda0456-68f3-4039-95a0-697abf40b8b1",
   "metadata": {},
   "outputs": [
    {
     "data": {
      "text/plain": [
       "(100,)"
      ]
     },
     "execution_count": 29,
     "metadata": {},
     "output_type": "execute_result"
    }
   ],
   "source": [
    "random_array.shape"
   ]
  },
  {
   "cell_type": "code",
   "execution_count": 30,
   "id": "9e8de812-b737-4c00-a6a4-0438a6928d54",
   "metadata": {},
   "outputs": [
    {
     "data": {
      "text/plain": [
       "100"
      ]
     },
     "execution_count": 30,
     "metadata": {},
     "output_type": "execute_result"
    }
   ],
   "source": [
    "random_array.size"
   ]
  },
  {
   "cell_type": "code",
   "execution_count": 33,
   "id": "27a8a652-1f2b-46f3-86bc-fbec1a0d755c",
   "metadata": {},
   "outputs": [
    {
     "data": {
      "text/plain": [
       "dtype('int32')"
      ]
     },
     "execution_count": 33,
     "metadata": {},
     "output_type": "execute_result"
    }
   ],
   "source": [
    "random_array.dtype"
   ]
  },
  {
   "cell_type": "code",
   "execution_count": 34,
   "id": "f7e36364-f992-44b9-bd6e-1e6568656c30",
   "metadata": {},
   "outputs": [
    {
     "data": {
      "text/plain": [
       "array([81, 11, 48, 11, 41, 72, 97, 14, 71, 59])"
      ]
     },
     "execution_count": 34,
     "metadata": {},
     "output_type": "execute_result"
    }
   ],
   "source": [
    "random_array[:10]"
   ]
  },
  {
   "cell_type": "code",
   "execution_count": 35,
   "id": "6e45d7d7-248a-401c-9300-e40d0ea032e6",
   "metadata": {},
   "outputs": [
    {
     "data": {
      "text/plain": [
       "array([6561,  121, 2304,  121, 1681, 5184, 9409,  196, 5041, 3481, 7569,\n",
       "       3364, 3721, 6561,  576, 6724, 8836,    1, 8836, 6561, 9409, 6084,\n",
       "         64, 2809,  784, 4489, 4356, 5476,  169, 4096,  841, 5476,  529,\n",
       "       2809,  121, 5625, 9801,    0, 3481, 1681, 1681, 8281, 7744, 4761,\n",
       "       6724, 2209, 1444, 5625,  324, 5184,  361,  225,  484,  324, 5329,\n",
       "       8100, 6724, 1369,  529,  529, 8281, 1681,  625, 9604,    1,  196,\n",
       "         16, 2401,  625,  256, 3844, 1600, 3844,  324,  676, 9409,  121,\n",
       "       4624,  256, 4356, 4096, 4356,  676,   16,  961,  729,   16,  961,\n",
       "         64, 5041, 9216,  361, 9801, 2304, 1296,  324, 3721, 1444, 4225,\n",
       "       4225])"
      ]
     },
     "execution_count": 35,
     "metadata": {},
     "output_type": "execute_result"
    }
   ],
   "source": [
    "random_array * random_array"
   ]
  },
  {
   "cell_type": "code",
   "execution_count": 41,
   "id": "19ff5771-15cc-4f71-9df3-3bdd9b17a3e0",
   "metadata": {},
   "outputs": [
    {
     "data": {
      "text/plain": [
       "5043"
      ]
     },
     "execution_count": 41,
     "metadata": {},
     "output_type": "execute_result"
    }
   ],
   "source": [
    "np.sum(random_array)"
   ]
  },
  {
   "cell_type": "code",
   "execution_count": 43,
   "id": "394dfb83-72c5-4557-8cce-c9a5c1cda611",
   "metadata": {},
   "outputs": [
    {
     "data": {
      "text/plain": [
       "array([68, 84, 73, 61, 82, 29, 32, 47, 89,  8, 74, 93,  8, 10, 78, 97, 17,\n",
       "       11, 27, 41,  0, 64, 68, 42, 27,  0, 67, 37, 35, 99, 10, 90, 31, 61,\n",
       "       39, 71, 19, 90, 99, 57, 59, 66, 74, 76, 24,  3, 35, 24, 41, 38, 26,\n",
       "       80, 85, 21, 91, 68, 91, 48, 46, 80, 48, 78,  2, 87, 48, 57,  0, 38,\n",
       "       48, 62, 46, 91, 37, 49, 80, 59,  4, 42, 30, 28, 80, 84, 60, 31, 54,\n",
       "       57,  8, 97, 38, 32, 19, 10,  0, 73, 34, 72, 88, 25, 60, 76])"
      ]
     },
     "execution_count": 43,
     "metadata": {},
     "output_type": "execute_result"
    }
   ],
   "source": [
    "random_array"
   ]
  },
  {
   "cell_type": "code",
   "execution_count": 42,
   "id": "84e78d68-e351-46fb-8137-c199ccb9f883",
   "metadata": {},
   "outputs": [
    {
     "data": {
      "text/plain": [
       "array([ 0,  0,  0,  0,  2,  3,  4,  8,  8,  8, 10, 10, 10, 11, 17, 19, 19,\n",
       "       21, 24, 24, 25, 26, 27, 27, 28, 29, 30, 31, 31, 32, 32, 34, 35, 35,\n",
       "       37, 37, 38, 38, 38, 39, 41, 41, 42, 42, 46, 46, 47, 48, 48, 48, 48,\n",
       "       49, 54, 57, 57, 57, 59, 59, 60, 60, 61, 61, 62, 64, 66, 67, 68, 68,\n",
       "       68, 71, 72, 73, 73, 74, 74, 76, 76, 78, 78, 80, 80, 80, 80, 82, 84,\n",
       "       84, 85, 87, 88, 89, 90, 90, 91, 91, 91, 93, 97, 97, 99, 99])"
      ]
     },
     "execution_count": 42,
     "metadata": {},
     "output_type": "execute_result"
    }
   ],
   "source": [
    "np.sort(random_array)"
   ]
  },
  {
   "cell_type": "code",
   "execution_count": 46,
   "id": "c6f13af3-b7a5-494d-aaaa-1178d50a506b",
   "metadata": {},
   "outputs": [],
   "source": [
    "random_array2 = np.random.randint(0, 100, size=(100,3)) "
   ]
  },
  {
   "cell_type": "code",
   "execution_count": 48,
   "id": "4ede3ae8-d1f8-431d-a651-8a7540da2ce4",
   "metadata": {},
   "outputs": [
    {
     "data": {
      "text/plain": [
       "(100, 3)"
      ]
     },
     "execution_count": 48,
     "metadata": {},
     "output_type": "execute_result"
    }
   ],
   "source": [
    "random_array2.shape"
   ]
  },
  {
   "cell_type": "code",
   "execution_count": 49,
   "id": "709772ca-3adf-40a6-afc9-b7f5620ad2be",
   "metadata": {},
   "outputs": [
    {
     "data": {
      "text/plain": [
       "array([44,  1, 26, 62, 43, 38,  1, 15, 50, 20, 96, 72, 94, 73, 50, 53, 81,\n",
       "       32, 68, 44, 60, 61, 44, 16, 64, 74, 43, 53, 36, 61, 80, 90, 15, 56,\n",
       "       24, 74, 98, 59, 86, 28, 19, 83, 94, 64, 51, 28, 94, 56, 91, 63, 51,\n",
       "       77, 75, 55, 60, 86,  7, 29, 25, 29, 19, 74, 90, 48, 87,  8, 62, 19,\n",
       "       37, 93, 72, 21, 55, 73, 37, 27,  8, 27, 10, 73, 74, 99, 72, 83, 46,\n",
       "       14, 65, 41, 74,  5,  5, 52, 12, 29, 98, 48, 59, 43, 18, 38])"
      ]
     },
     "execution_count": 49,
     "metadata": {},
     "output_type": "execute_result"
    }
   ],
   "source": [
    "random_array2[:,1]"
   ]
  },
  {
   "cell_type": "code",
   "execution_count": 50,
   "id": "73e911a3-1489-4873-a5a6-86726aae28db",
   "metadata": {},
   "outputs": [
    {
     "data": {
      "text/plain": [
       "array([66, 36,  9, 99, 10, 26, 25, 63, 38, 40, 98, 96, 37,  3, 79, 20, 22,\n",
       "       75, 69, 38, 53,  3, 80, 29, 79, 74,  6, 19, 85, 61, 76, 51,  9, 13,\n",
       "       46, 92, 20, 11,  9, 25, 61, 60, 40, 40, 51, 64, 36, 91, 79, 59, 51,\n",
       "       33, 39, 34,  4, 43, 48, 36,  3, 18, 58, 62,  1, 18,  4, 40, 51, 55,\n",
       "       73,  7,  2,  7, 46, 40, 73, 87,  7, 61, 77, 34, 40, 76, 68, 42, 57,\n",
       "       21, 57,  3, 23, 28, 45, 91, 67, 55, 14, 84, 69, 10, 48, 79])"
      ]
     },
     "execution_count": 50,
     "metadata": {},
     "output_type": "execute_result"
    }
   ],
   "source": [
    "random_array2[:,2]"
   ]
  },
  {
   "cell_type": "code",
   "execution_count": 51,
   "id": "5a962760-80ee-478c-90d1-05743972c45f",
   "metadata": {},
   "outputs": [
    {
     "data": {
      "text/plain": [
       "array([87,  6, 98,  5, 93, 61, 87, 15, 59, 63, 36, 18, 55, 77, 16, 35, 15,\n",
       "       52, 53, 34, 69, 58, 71, 21, 51, 42, 37, 84, 87, 40, 38, 53, 20, 18,\n",
       "        7, 37, 85, 97, 46, 31, 51, 36, 51, 65, 18, 57, 61, 91, 93, 95, 16,\n",
       "       30, 73,  5, 11,  0,  4, 38, 58, 92, 91, 33,  3, 68, 42, 86, 87, 37,\n",
       "       71, 30, 27, 84, 60,  2, 86,  0, 25, 26, 77, 99, 85, 37,  7, 13, 96,\n",
       "       15, 45, 70, 44, 52, 68, 46, 98, 82, 27, 63, 64, 12, 50, 21])"
      ]
     },
     "execution_count": 51,
     "metadata": {},
     "output_type": "execute_result"
    }
   ],
   "source": [
    "random_array2[:,0]"
   ]
  },
  {
   "cell_type": "code",
   "execution_count": 53,
   "id": "479187ac-c758-463c-b8bb-ed5a30ee3e3b",
   "metadata": {},
   "outputs": [
    {
     "data": {
      "text/plain": [
       "array([66, 36,  9, 99, 10, 26, 25, 63, 38, 40])"
      ]
     },
     "execution_count": 53,
     "metadata": {},
     "output_type": "execute_result"
    }
   ],
   "source": [
    "random_array2[:10,2]"
   ]
  },
  {
   "cell_type": "code",
   "execution_count": 55,
   "id": "b9781912-3d07-4880-96ab-ca694be1ff92",
   "metadata": {},
   "outputs": [],
   "source": [
    "import pandas as pd"
   ]
  },
  {
   "cell_type": "code",
   "execution_count": 57,
   "id": "2516e525-7fc7-4b9f-ab67-7c175b2de021",
   "metadata": {},
   "outputs": [],
   "source": [
    "movies = pd.read_csv('top movies.csv')"
   ]
  },
  {
   "cell_type": "code",
   "execution_count": 59,
   "id": "cf374286-a749-4190-a782-1955ea5decea",
   "metadata": {},
   "outputs": [
    {
     "data": {
      "text/html": [
       "<div>\n",
       "<style scoped>\n",
       "    .dataframe tbody tr th:only-of-type {\n",
       "        vertical-align: middle;\n",
       "    }\n",
       "\n",
       "    .dataframe tbody tr th {\n",
       "        vertical-align: top;\n",
       "    }\n",
       "\n",
       "    .dataframe thead th {\n",
       "        text-align: right;\n",
       "    }\n",
       "</style>\n",
       "<table border=\"1\" class=\"dataframe\">\n",
       "  <thead>\n",
       "    <tr style=\"text-align: right;\">\n",
       "      <th></th>\n",
       "      <th>id</th>\n",
       "      <th>title</th>\n",
       "      <th>original_language</th>\n",
       "      <th>release_date</th>\n",
       "      <th>vote_average</th>\n",
       "      <th>vote_count</th>\n",
       "      <th>popularity</th>\n",
       "      <th>overview</th>\n",
       "      <th>genre_ids</th>\n",
       "      <th>Genres</th>\n",
       "    </tr>\n",
       "  </thead>\n",
       "  <tbody>\n",
       "    <tr>\n",
       "      <th>0</th>\n",
       "      <td>278</td>\n",
       "      <td>The Shawshank Redemption</td>\n",
       "      <td>en</td>\n",
       "      <td>1994-09-23</td>\n",
       "      <td>8.706</td>\n",
       "      <td>26840</td>\n",
       "      <td>150.307</td>\n",
       "      <td>Imprisoned in the 1940s for the double murder ...</td>\n",
       "      <td>[18, 80]</td>\n",
       "      <td>['Drama', 'Crime']</td>\n",
       "    </tr>\n",
       "    <tr>\n",
       "      <th>1</th>\n",
       "      <td>238</td>\n",
       "      <td>The Godfather</td>\n",
       "      <td>en</td>\n",
       "      <td>1972-03-14</td>\n",
       "      <td>8.690</td>\n",
       "      <td>20373</td>\n",
       "      <td>122.973</td>\n",
       "      <td>Spanning the years 1945 to 1955, a chronicle o...</td>\n",
       "      <td>[18, 80]</td>\n",
       "      <td>['Drama', 'Crime']</td>\n",
       "    </tr>\n",
       "    <tr>\n",
       "      <th>2</th>\n",
       "      <td>240</td>\n",
       "      <td>The Godfather Part II</td>\n",
       "      <td>en</td>\n",
       "      <td>1974-12-20</td>\n",
       "      <td>8.575</td>\n",
       "      <td>12291</td>\n",
       "      <td>94.204</td>\n",
       "      <td>In the continuing saga of the Corleone crime f...</td>\n",
       "      <td>[18, 80]</td>\n",
       "      <td>['Drama', 'Crime']</td>\n",
       "    </tr>\n",
       "    <tr>\n",
       "      <th>3</th>\n",
       "      <td>424</td>\n",
       "      <td>Schindler's List</td>\n",
       "      <td>en</td>\n",
       "      <td>1993-12-15</td>\n",
       "      <td>8.565</td>\n",
       "      <td>15695</td>\n",
       "      <td>74.615</td>\n",
       "      <td>The true story of how businessman Oskar Schind...</td>\n",
       "      <td>[18, 36, 10752]</td>\n",
       "      <td>['Drama', 'History', 'War']</td>\n",
       "    </tr>\n",
       "    <tr>\n",
       "      <th>4</th>\n",
       "      <td>389</td>\n",
       "      <td>12 Angry Men</td>\n",
       "      <td>en</td>\n",
       "      <td>1957-04-10</td>\n",
       "      <td>8.546</td>\n",
       "      <td>8522</td>\n",
       "      <td>54.678</td>\n",
       "      <td>The defense and the prosecution have rested an...</td>\n",
       "      <td>[18]</td>\n",
       "      <td>['Drama']</td>\n",
       "    </tr>\n",
       "  </tbody>\n",
       "</table>\n",
       "</div>"
      ],
      "text/plain": [
       "    id                     title original_language release_date  vote_average  \\\n",
       "0  278  The Shawshank Redemption                en   1994-09-23         8.706   \n",
       "1  238             The Godfather                en   1972-03-14         8.690   \n",
       "2  240     The Godfather Part II                en   1974-12-20         8.575   \n",
       "3  424          Schindler's List                en   1993-12-15         8.565   \n",
       "4  389              12 Angry Men                en   1957-04-10         8.546   \n",
       "\n",
       "   vote_count  popularity                                           overview  \\\n",
       "0       26840     150.307  Imprisoned in the 1940s for the double murder ...   \n",
       "1       20373     122.973  Spanning the years 1945 to 1955, a chronicle o...   \n",
       "2       12291      94.204  In the continuing saga of the Corleone crime f...   \n",
       "3       15695      74.615  The true story of how businessman Oskar Schind...   \n",
       "4        8522      54.678  The defense and the prosecution have rested an...   \n",
       "\n",
       "         genre_ids                       Genres  \n",
       "0         [18, 80]           ['Drama', 'Crime']  \n",
       "1         [18, 80]           ['Drama', 'Crime']  \n",
       "2         [18, 80]           ['Drama', 'Crime']  \n",
       "3  [18, 36, 10752]  ['Drama', 'History', 'War']  \n",
       "4             [18]                    ['Drama']  "
      ]
     },
     "execution_count": 59,
     "metadata": {},
     "output_type": "execute_result"
    }
   ],
   "source": [
    "movies.head()"
   ]
  },
  {
   "cell_type": "code",
   "execution_count": 60,
   "id": "9115a49b-d6ec-4948-bf38-d288b5230d59",
   "metadata": {},
   "outputs": [
    {
     "data": {
      "text/plain": [
       "(9630, 10)"
      ]
     },
     "execution_count": 60,
     "metadata": {},
     "output_type": "execute_result"
    }
   ],
   "source": [
    "movies.shape"
   ]
  },
  {
   "cell_type": "code",
   "execution_count": 63,
   "id": "43fd1bf6-6f32-4d26-9558-3907c4da5392",
   "metadata": {},
   "outputs": [
    {
     "data": {
      "text/plain": [
       "id                                                                 278\n",
       "title                                         The Shawshank Redemption\n",
       "original_language                                                   en\n",
       "release_date                                                1994-09-23\n",
       "vote_average                                                     8.706\n",
       "vote_count                                                       26840\n",
       "popularity                                                     150.307\n",
       "overview             Imprisoned in the 1940s for the double murder ...\n",
       "genre_ids                                                     [18, 80]\n",
       "Genres                                              ['Drama', 'Crime']\n",
       "Name: 0, dtype: object"
      ]
     },
     "execution_count": 63,
     "metadata": {},
     "output_type": "execute_result"
    }
   ],
   "source": [
    "movies.iloc[0]"
   ]
  },
  {
   "cell_type": "code",
   "execution_count": 65,
   "id": "f4e8d472-0ea8-4048-9df6-af7928ce633e",
   "metadata": {},
   "outputs": [
    {
     "data": {
      "text/plain": [
       "0         The Shawshank Redemption\n",
       "1                    The Godfather\n",
       "2            The Godfather Part II\n",
       "3                 Schindler's List\n",
       "4                     12 Angry Men\n",
       "                   ...            \n",
       "9625             Alone in the Dark\n",
       "9626                Disaster Movie\n",
       "9627             House of the Dead\n",
       "9628          Dragonball Evolution\n",
       "9629    Birdemic: Shock and Terror\n",
       "Name: title, Length: 9630, dtype: object"
      ]
     },
     "execution_count": 65,
     "metadata": {},
     "output_type": "execute_result"
    }
   ],
   "source": [
    "movies['title']"
   ]
  },
  {
   "cell_type": "code",
   "execution_count": 66,
   "id": "c3bca709-18ff-40ef-b18e-31b022166d5e",
   "metadata": {},
   "outputs": [
    {
     "data": {
      "text/plain": [
       "array(['en', 'ja', 'hi', 'ko', 'es', 'it', 'fr', 'pt', 'zh', 'tr', 'ru',\n",
       "       'sv', 'ar', 'de', 'cn', 'da', 'bn', 'fa', 'th', 'hu', 'pl', 'te',\n",
       "       'sr', 'nl', 'sh', 'et', 'uk', 'id', 'cs', 'gl', 'ro', 'ga', 'no',\n",
       "       'bs', 'el', 'fi', 'is', 'ml', 'la', 'tn', 'he', 'km', 'eu', 'hy',\n",
       "       'lt'], dtype=object)"
      ]
     },
     "execution_count": 66,
     "metadata": {},
     "output_type": "execute_result"
    }
   ],
   "source": [
    "movies['original_language'].unique()"
   ]
  },
  {
   "cell_type": "code",
   "execution_count": 70,
   "id": "b5bd8c01-52ef-41ae-90a5-3842482ec108",
   "metadata": {},
   "outputs": [],
   "source": [
    "english_movies = movies[movies['original_language'] =='en']"
   ]
  },
  {
   "cell_type": "code",
   "execution_count": 72,
   "id": "d9bf5e58-0437-41c7-8c11-e2a364aad886",
   "metadata": {},
   "outputs": [
    {
     "name": "stdout",
     "output_type": "stream",
     "text": [
      "<class 'pandas.core.frame.DataFrame'>\n",
      "Index: 7640 entries, 0 to 9629\n",
      "Data columns (total 10 columns):\n",
      " #   Column             Non-Null Count  Dtype  \n",
      "---  ------             --------------  -----  \n",
      " 0   id                 7640 non-null   int64  \n",
      " 1   title              7640 non-null   object \n",
      " 2   original_language  7640 non-null   object \n",
      " 3   release_date       7640 non-null   object \n",
      " 4   vote_average       7640 non-null   float64\n",
      " 5   vote_count         7640 non-null   int64  \n",
      " 6   popularity         7640 non-null   float64\n",
      " 7   overview           7640 non-null   object \n",
      " 8   genre_ids          7640 non-null   object \n",
      " 9   Genres             7640 non-null   object \n",
      "dtypes: float64(2), int64(2), object(6)\n",
      "memory usage: 656.6+ KB\n"
     ]
    }
   ],
   "source": [
    "english_movies.info()"
   ]
  },
  {
   "cell_type": "code",
   "execution_count": 74,
   "id": "7c926526-f052-4d6d-a5a9-cbaf619b7656",
   "metadata": {},
   "outputs": [],
   "source": [
    "english_movies.to_csv('eng movies.csv')"
   ]
  },
  {
   "cell_type": "code",
   "execution_count": 89,
   "id": "d7be21ec-dfc4-43fe-b1c6-5dd8770067b4",
   "metadata": {},
   "outputs": [
    {
     "data": {
      "text/html": [
       "<div>\n",
       "<style scoped>\n",
       "    .dataframe tbody tr th:only-of-type {\n",
       "        vertical-align: middle;\n",
       "    }\n",
       "\n",
       "    .dataframe tbody tr th {\n",
       "        vertical-align: top;\n",
       "    }\n",
       "\n",
       "    .dataframe thead th {\n",
       "        text-align: right;\n",
       "    }\n",
       "</style>\n",
       "<table border=\"1\" class=\"dataframe\">\n",
       "  <thead>\n",
       "    <tr style=\"text-align: right;\">\n",
       "      <th></th>\n",
       "      <th>id</th>\n",
       "      <th>title</th>\n",
       "      <th>original_language</th>\n",
       "      <th>release_date</th>\n",
       "      <th>vote_average</th>\n",
       "      <th>vote_count</th>\n",
       "      <th>popularity</th>\n",
       "      <th>overview</th>\n",
       "      <th>genre_ids</th>\n",
       "      <th>Genres</th>\n",
       "    </tr>\n",
       "  </thead>\n",
       "  <tbody>\n",
       "    <tr>\n",
       "      <th>36</th>\n",
       "      <td>704264</td>\n",
       "      <td>Primal: Tales of Savagery</td>\n",
       "      <td>en</td>\n",
       "      <td>2019-11-21</td>\n",
       "      <td>8.395</td>\n",
       "      <td>311</td>\n",
       "      <td>14.896</td>\n",
       "      <td>Genndy Tartakovsky's Primal: Tales of Savagery...</td>\n",
       "      <td>[28, 12, 16, 18]</td>\n",
       "      <td>['Action', 'Adventure', 'Animation', 'Drama']</td>\n",
       "    </tr>\n",
       "    <tr>\n",
       "      <th>87</th>\n",
       "      <td>8587</td>\n",
       "      <td>The Lion King</td>\n",
       "      <td>en</td>\n",
       "      <td>1994-06-24</td>\n",
       "      <td>8.257</td>\n",
       "      <td>18081</td>\n",
       "      <td>131.119</td>\n",
       "      <td>A young lion prince is cast out of his pride b...</td>\n",
       "      <td>[10751, 16, 18]</td>\n",
       "      <td>['Family', 'Animation', 'Drama']</td>\n",
       "    </tr>\n",
       "    <tr>\n",
       "      <th>204</th>\n",
       "      <td>555604</td>\n",
       "      <td>Guillermo del Toro's Pinocchio</td>\n",
       "      <td>en</td>\n",
       "      <td>2022-11-09</td>\n",
       "      <td>8.095</td>\n",
       "      <td>2853</td>\n",
       "      <td>36.367</td>\n",
       "      <td>During the rise of fascism in Mussolini's Ital...</td>\n",
       "      <td>[16, 14, 18]</td>\n",
       "      <td>['Animation', 'Fantasy', 'Drama']</td>\n",
       "    </tr>\n",
       "    <tr>\n",
       "      <th>288</th>\n",
       "      <td>339877</td>\n",
       "      <td>Loving Vincent</td>\n",
       "      <td>en</td>\n",
       "      <td>2017-06-22</td>\n",
       "      <td>8.004</td>\n",
       "      <td>2417</td>\n",
       "      <td>16.001</td>\n",
       "      <td>A young man arrives at the last hometown of pa...</td>\n",
       "      <td>[16, 18, 9648, 36]</td>\n",
       "      <td>['Animation', 'Drama', 'Mystery', 'History']</td>\n",
       "    </tr>\n",
       "    <tr>\n",
       "      <th>328</th>\n",
       "      <td>574074</td>\n",
       "      <td>Kitbull</td>\n",
       "      <td>en</td>\n",
       "      <td>2019-01-18</td>\n",
       "      <td>7.967</td>\n",
       "      <td>363</td>\n",
       "      <td>29.134</td>\n",
       "      <td>An unlikely connection sparks between two crea...</td>\n",
       "      <td>[16, 10751, 18]</td>\n",
       "      <td>['Animation', 'Family', 'Drama']</td>\n",
       "    </tr>\n",
       "    <tr>\n",
       "      <th>400</th>\n",
       "      <td>150540</td>\n",
       "      <td>Inside Out</td>\n",
       "      <td>en</td>\n",
       "      <td>2015-06-17</td>\n",
       "      <td>7.914</td>\n",
       "      <td>21669</td>\n",
       "      <td>231.491</td>\n",
       "      <td>When 11-year-old Riley moves to a new city, he...</td>\n",
       "      <td>[16, 10751, 12, 18, 35]</td>\n",
       "      <td>['Animation', 'Family', 'Adventure', 'Drama', ...</td>\n",
       "    </tr>\n",
       "    <tr>\n",
       "      <th>502</th>\n",
       "      <td>435129</td>\n",
       "      <td>The Breadwinner</td>\n",
       "      <td>en</td>\n",
       "      <td>2017-11-17</td>\n",
       "      <td>7.800</td>\n",
       "      <td>818</td>\n",
       "      <td>11.099</td>\n",
       "      <td>A headstrong young girl in Afghanistan, ruled ...</td>\n",
       "      <td>[16, 10752, 18, 10751]</td>\n",
       "      <td>['Animation', 'War', 'Drama', 'Family']</td>\n",
       "    </tr>\n",
       "    <tr>\n",
       "      <th>516</th>\n",
       "      <td>293299</td>\n",
       "      <td>Feast</td>\n",
       "      <td>en</td>\n",
       "      <td>2014-10-25</td>\n",
       "      <td>7.841</td>\n",
       "      <td>838</td>\n",
       "      <td>7.906</td>\n",
       "      <td>This Oscar-winning animated short film tells t...</td>\n",
       "      <td>[16, 35, 18, 10751]</td>\n",
       "      <td>['Animation', 'Comedy', 'Drama', 'Family']</td>\n",
       "    </tr>\n",
       "    <tr>\n",
       "      <th>529</th>\n",
       "      <td>303867</td>\n",
       "      <td>World of Tomorrow</td>\n",
       "      <td>en</td>\n",
       "      <td>2015-01-22</td>\n",
       "      <td>7.830</td>\n",
       "      <td>314</td>\n",
       "      <td>6.341</td>\n",
       "      <td>A little girl is taken on a mind-bending tour ...</td>\n",
       "      <td>[16, 18, 878]</td>\n",
       "      <td>['Animation', 'Drama', 'Science Fiction']</td>\n",
       "    </tr>\n",
       "    <tr>\n",
       "      <th>549</th>\n",
       "      <td>779047</td>\n",
       "      <td>Us Again</td>\n",
       "      <td>en</td>\n",
       "      <td>2021-03-03</td>\n",
       "      <td>7.800</td>\n",
       "      <td>311</td>\n",
       "      <td>23.821</td>\n",
       "      <td>In a vibrant city pulsating with rhythm and mo...</td>\n",
       "      <td>[16, 18, 10751]</td>\n",
       "      <td>['Animation', 'Drama', 'Family']</td>\n",
       "    </tr>\n",
       "    <tr>\n",
       "      <th>726</th>\n",
       "      <td>486589</td>\n",
       "      <td>Red Shoes and the Seven Dwarfs</td>\n",
       "      <td>en</td>\n",
       "      <td>2019-07-25</td>\n",
       "      <td>7.725</td>\n",
       "      <td>1071</td>\n",
       "      <td>35.423</td>\n",
       "      <td>Princes who have been turned into Dwarfs seek ...</td>\n",
       "      <td>[16, 14, 18, 10751, 35, 10749]</td>\n",
       "      <td>['Animation', 'Fantasy', 'Drama', 'Family', 'C...</td>\n",
       "    </tr>\n",
       "    <tr>\n",
       "      <th>782</th>\n",
       "      <td>9023</td>\n",
       "      <td>Spirit: Stallion of the Cimarron</td>\n",
       "      <td>en</td>\n",
       "      <td>2002-05-24</td>\n",
       "      <td>7.696</td>\n",
       "      <td>4511</td>\n",
       "      <td>67.378</td>\n",
       "      <td>A captured mustang remains determined to retur...</td>\n",
       "      <td>[16, 12, 35, 10751, 18, 37, 10749]</td>\n",
       "      <td>['Animation', 'Adventure', 'Comedy', 'Family',...</td>\n",
       "    </tr>\n",
       "    <tr>\n",
       "      <th>786</th>\n",
       "      <td>713776</td>\n",
       "      <td>If Anything Happens I Love You</td>\n",
       "      <td>en</td>\n",
       "      <td>2020-03-07</td>\n",
       "      <td>7.694</td>\n",
       "      <td>872</td>\n",
       "      <td>6.470</td>\n",
       "      <td>In this Oscar-winning short film, grieving par...</td>\n",
       "      <td>[18, 16]</td>\n",
       "      <td>['Drama', 'Animation']</td>\n",
       "    </tr>\n",
       "    <tr>\n",
       "      <th>1355</th>\n",
       "      <td>9081</td>\n",
       "      <td>Waking Life</td>\n",
       "      <td>en</td>\n",
       "      <td>2001-10-19</td>\n",
       "      <td>7.479</td>\n",
       "      <td>856</td>\n",
       "      <td>12.296</td>\n",
       "      <td>Waking Life is about a young man in a persiste...</td>\n",
       "      <td>[16, 18]</td>\n",
       "      <td>['Animation', 'Drama']</td>\n",
       "    </tr>\n",
       "    <tr>\n",
       "      <th>1361</th>\n",
       "      <td>9081</td>\n",
       "      <td>Waking Life</td>\n",
       "      <td>en</td>\n",
       "      <td>2001-10-19</td>\n",
       "      <td>7.479</td>\n",
       "      <td>856</td>\n",
       "      <td>12.296</td>\n",
       "      <td>Waking Life is about a young man in a persiste...</td>\n",
       "      <td>[16, 18]</td>\n",
       "      <td>['Animation', 'Drama']</td>\n",
       "    </tr>\n",
       "    <tr>\n",
       "      <th>1391</th>\n",
       "      <td>14919</td>\n",
       "      <td>Batman: Mask of the Phantasm</td>\n",
       "      <td>en</td>\n",
       "      <td>1993-12-25</td>\n",
       "      <td>7.500</td>\n",
       "      <td>1077</td>\n",
       "      <td>33.666</td>\n",
       "      <td>When a powerful criminal, who is connected to ...</td>\n",
       "      <td>[28, 16, 80, 9648, 18]</td>\n",
       "      <td>['Action', 'Animation', 'Crime', 'Mystery', 'D...</td>\n",
       "    </tr>\n",
       "    <tr>\n",
       "      <th>1566</th>\n",
       "      <td>487670</td>\n",
       "      <td>The Death of Superman</td>\n",
       "      <td>en</td>\n",
       "      <td>2018-07-24</td>\n",
       "      <td>7.419</td>\n",
       "      <td>732</td>\n",
       "      <td>15.723</td>\n",
       "      <td>When a hulking monster arrives on Earth and be...</td>\n",
       "      <td>[878, 16, 28, 18]</td>\n",
       "      <td>['Science Fiction', 'Animation', 'Action', 'Dr...</td>\n",
       "    </tr>\n",
       "    <tr>\n",
       "      <th>1624</th>\n",
       "      <td>37135</td>\n",
       "      <td>Tarzan</td>\n",
       "      <td>en</td>\n",
       "      <td>1999-06-18</td>\n",
       "      <td>7.403</td>\n",
       "      <td>6650</td>\n",
       "      <td>65.184</td>\n",
       "      <td>Tarzan was a small orphan who was raised by an...</td>\n",
       "      <td>[10751, 12, 16, 18]</td>\n",
       "      <td>['Family', 'Adventure', 'Animation', 'Drama']</td>\n",
       "    </tr>\n",
       "    <tr>\n",
       "      <th>2092</th>\n",
       "      <td>9837</td>\n",
       "      <td>The Prince of Egypt</td>\n",
       "      <td>en</td>\n",
       "      <td>1998-12-16</td>\n",
       "      <td>7.281</td>\n",
       "      <td>3914</td>\n",
       "      <td>52.641</td>\n",
       "      <td>The strong bond between two brothers is challe...</td>\n",
       "      <td>[12, 16, 18, 10751]</td>\n",
       "      <td>['Adventure', 'Animation', 'Drama', 'Family']</td>\n",
       "    </tr>\n",
       "    <tr>\n",
       "      <th>2441</th>\n",
       "      <td>11837</td>\n",
       "      <td>Watership Down</td>\n",
       "      <td>en</td>\n",
       "      <td>1978-10-14</td>\n",
       "      <td>7.194</td>\n",
       "      <td>605</td>\n",
       "      <td>10.689</td>\n",
       "      <td>When the warren belonging to a community of ra...</td>\n",
       "      <td>[12, 16, 18]</td>\n",
       "      <td>['Adventure', 'Animation', 'Drama']</td>\n",
       "    </tr>\n",
       "    <tr>\n",
       "      <th>2656</th>\n",
       "      <td>10948</td>\n",
       "      <td>The Fox and the Hound</td>\n",
       "      <td>en</td>\n",
       "      <td>1981-07-10</td>\n",
       "      <td>7.142</td>\n",
       "      <td>3174</td>\n",
       "      <td>40.485</td>\n",
       "      <td>When a feisty little fox named Tod is adopted ...</td>\n",
       "      <td>[12, 16, 18, 10751]</td>\n",
       "      <td>['Adventure', 'Animation', 'Drama', 'Family']</td>\n",
       "    </tr>\n",
       "    <tr>\n",
       "      <th>2755</th>\n",
       "      <td>10545</td>\n",
       "      <td>The Hunchback of Notre Dame</td>\n",
       "      <td>en</td>\n",
       "      <td>1996-06-21</td>\n",
       "      <td>7.117</td>\n",
       "      <td>4922</td>\n",
       "      <td>47.956</td>\n",
       "      <td>Isolated bell-ringer Quasimodo wishes to leave...</td>\n",
       "      <td>[18, 16, 10751]</td>\n",
       "      <td>['Drama', 'Animation', 'Family']</td>\n",
       "    </tr>\n",
       "    <tr>\n",
       "      <th>2757</th>\n",
       "      <td>291270</td>\n",
       "      <td>Anomalisa</td>\n",
       "      <td>en</td>\n",
       "      <td>2015-12-30</td>\n",
       "      <td>7.100</td>\n",
       "      <td>1659</td>\n",
       "      <td>9.714</td>\n",
       "      <td>An inspirational speaker becomes reinvigorated...</td>\n",
       "      <td>[16, 18, 10749, 35]</td>\n",
       "      <td>['Animation', 'Drama', 'Romance', 'Comedy']</td>\n",
       "    </tr>\n",
       "    <tr>\n",
       "      <th>2767</th>\n",
       "      <td>420818</td>\n",
       "      <td>The Lion King</td>\n",
       "      <td>en</td>\n",
       "      <td>2019-07-12</td>\n",
       "      <td>7.114</td>\n",
       "      <td>9885</td>\n",
       "      <td>128.055</td>\n",
       "      <td>Simba idolizes his father, King Mufasa, and ta...</td>\n",
       "      <td>[16, 12, 18, 10751]</td>\n",
       "      <td>['Animation', 'Adventure', 'Drama', 'Family']</td>\n",
       "    </tr>\n",
       "    <tr>\n",
       "      <th>3158</th>\n",
       "      <td>926899</td>\n",
       "      <td>The House</td>\n",
       "      <td>en</td>\n",
       "      <td>2022-01-14</td>\n",
       "      <td>7.020</td>\n",
       "      <td>1005</td>\n",
       "      <td>25.289</td>\n",
       "      <td>Across different eras, a poor family, an anxio...</td>\n",
       "      <td>[16, 18, 35, 27, 14]</td>\n",
       "      <td>['Animation', 'Drama', 'Comedy', 'Horror', 'Fa...</td>\n",
       "    </tr>\n",
       "    <tr>\n",
       "      <th>3183</th>\n",
       "      <td>3170</td>\n",
       "      <td>Bambi</td>\n",
       "      <td>en</td>\n",
       "      <td>1942-02-11</td>\n",
       "      <td>7.016</td>\n",
       "      <td>5567</td>\n",
       "      <td>42.570</td>\n",
       "      <td>Bambi's tale unfolds from season to season as ...</td>\n",
       "      <td>[16, 18, 10751]</td>\n",
       "      <td>['Animation', 'Drama', 'Family']</td>\n",
       "    </tr>\n",
       "    <tr>\n",
       "      <th>3330</th>\n",
       "      <td>11848</td>\n",
       "      <td>Animal Farm</td>\n",
       "      <td>en</td>\n",
       "      <td>1954-12-28</td>\n",
       "      <td>6.981</td>\n",
       "      <td>465</td>\n",
       "      <td>15.777</td>\n",
       "      <td>Animals on a farm lead a revolution against th...</td>\n",
       "      <td>[16, 18]</td>\n",
       "      <td>['Animation', 'Drama']</td>\n",
       "    </tr>\n",
       "    <tr>\n",
       "      <th>3486</th>\n",
       "      <td>116440</td>\n",
       "      <td>Maggie Simpson in \"The Longest Daycare\"</td>\n",
       "      <td>en</td>\n",
       "      <td>2012-07-12</td>\n",
       "      <td>6.947</td>\n",
       "      <td>358</td>\n",
       "      <td>11.558</td>\n",
       "      <td>Maggie must navigate an eventful first day in ...</td>\n",
       "      <td>[16, 18, 10751, 35]</td>\n",
       "      <td>['Animation', 'Drama', 'Family', 'Comedy']</td>\n",
       "    </tr>\n",
       "    <tr>\n",
       "      <th>3934</th>\n",
       "      <td>18937</td>\n",
       "      <td>Quest for Camelot</td>\n",
       "      <td>en</td>\n",
       "      <td>1998-05-15</td>\n",
       "      <td>6.845</td>\n",
       "      <td>791</td>\n",
       "      <td>24.015</td>\n",
       "      <td>During the times of King Arthur, Kayley is a b...</td>\n",
       "      <td>[14, 16, 18, 10749, 10751]</td>\n",
       "      <td>['Fantasy', 'Animation', 'Drama', 'Romance', '...</td>\n",
       "    </tr>\n",
       "    <tr>\n",
       "      <th>4268</th>\n",
       "      <td>15171</td>\n",
       "      <td>Charlotte's Web</td>\n",
       "      <td>en</td>\n",
       "      <td>1973-03-01</td>\n",
       "      <td>6.800</td>\n",
       "      <td>369</td>\n",
       "      <td>14.296</td>\n",
       "      <td>Wilbur the pig is scared of the end of the sea...</td>\n",
       "      <td>[10751, 10402, 16, 18, 35]</td>\n",
       "      <td>['Family', 'Music', 'Animation', 'Drama', 'Com...</td>\n",
       "    </tr>\n",
       "    <tr>\n",
       "      <th>4329</th>\n",
       "      <td>51052</td>\n",
       "      <td>Arthur Christmas</td>\n",
       "      <td>en</td>\n",
       "      <td>2011-11-10</td>\n",
       "      <td>6.800</td>\n",
       "      <td>1433</td>\n",
       "      <td>17.475</td>\n",
       "      <td>Each Christmas, Santa and his vast army of hig...</td>\n",
       "      <td>[18, 16, 10751, 35]</td>\n",
       "      <td>['Drama', 'Animation', 'Family', 'Comedy']</td>\n",
       "    </tr>\n",
       "    <tr>\n",
       "      <th>4331</th>\n",
       "      <td>11497</td>\n",
       "      <td>All Dogs Go to Heaven</td>\n",
       "      <td>en</td>\n",
       "      <td>1989-11-17</td>\n",
       "      <td>6.800</td>\n",
       "      <td>1008</td>\n",
       "      <td>22.301</td>\n",
       "      <td>When a casino-owning dog named Charlie is murd...</td>\n",
       "      <td>[18, 16, 10751, 35, 14]</td>\n",
       "      <td>['Drama', 'Animation', 'Family', 'Comedy', 'Fa...</td>\n",
       "    </tr>\n",
       "    <tr>\n",
       "      <th>4534</th>\n",
       "      <td>4978</td>\n",
       "      <td>An American Tail</td>\n",
       "      <td>en</td>\n",
       "      <td>1986-11-21</td>\n",
       "      <td>6.716</td>\n",
       "      <td>1310</td>\n",
       "      <td>11.237</td>\n",
       "      <td>A young mouse named Fievel and his family deci...</td>\n",
       "      <td>[16, 35, 12, 18, 10751]</td>\n",
       "      <td>['Animation', 'Comedy', 'Adventure', 'Drama', ...</td>\n",
       "    </tr>\n",
       "    <tr>\n",
       "      <th>4896</th>\n",
       "      <td>65291</td>\n",
       "      <td>Green Lantern: Emerald Knights</td>\n",
       "      <td>en</td>\n",
       "      <td>2011-04-09</td>\n",
       "      <td>6.600</td>\n",
       "      <td>486</td>\n",
       "      <td>12.403</td>\n",
       "      <td>As the home planet of the Green Lantern Corps ...</td>\n",
       "      <td>[28, 12, 16, 878, 18]</td>\n",
       "      <td>['Action', 'Adventure', 'Animation', 'Science ...</td>\n",
       "    </tr>\n",
       "    <tr>\n",
       "      <th>5131</th>\n",
       "      <td>382322</td>\n",
       "      <td>Batman: The Killing Joke</td>\n",
       "      <td>en</td>\n",
       "      <td>2016-07-24</td>\n",
       "      <td>6.588</td>\n",
       "      <td>1777</td>\n",
       "      <td>19.990</td>\n",
       "      <td>As Batman hunts for the escaped Joker, the Clo...</td>\n",
       "      <td>[28, 16, 80, 18]</td>\n",
       "      <td>['Action', 'Animation', 'Crime', 'Drama']</td>\n",
       "    </tr>\n",
       "    <tr>\n",
       "      <th>5446</th>\n",
       "      <td>13205</td>\n",
       "      <td>Bambi II</td>\n",
       "      <td>en</td>\n",
       "      <td>2006-01-26</td>\n",
       "      <td>6.521</td>\n",
       "      <td>970</td>\n",
       "      <td>29.063</td>\n",
       "      <td>Return to the forest and join Bambi as he reun...</td>\n",
       "      <td>[16, 18, 10751]</td>\n",
       "      <td>['Animation', 'Drama', 'Family']</td>\n",
       "    </tr>\n",
       "    <tr>\n",
       "      <th>6138</th>\n",
       "      <td>152795</td>\n",
       "      <td>The Congress</td>\n",
       "      <td>en</td>\n",
       "      <td>2013-07-03</td>\n",
       "      <td>6.374</td>\n",
       "      <td>510</td>\n",
       "      <td>10.737</td>\n",
       "      <td>An aging, out-of-work actress accepts one last...</td>\n",
       "      <td>[18, 878, 16]</td>\n",
       "      <td>['Drama', 'Science Fiction', 'Animation']</td>\n",
       "    </tr>\n",
       "    <tr>\n",
       "      <th>7174</th>\n",
       "      <td>12593</td>\n",
       "      <td>Fritz the Cat</td>\n",
       "      <td>en</td>\n",
       "      <td>1972-04-12</td>\n",
       "      <td>6.128</td>\n",
       "      <td>317</td>\n",
       "      <td>14.916</td>\n",
       "      <td>A swinging, hypocritical college student cat r...</td>\n",
       "      <td>[16, 35, 18]</td>\n",
       "      <td>['Animation', 'Comedy', 'Drama']</td>\n",
       "    </tr>\n",
       "    <tr>\n",
       "      <th>8778</th>\n",
       "      <td>9513</td>\n",
       "      <td>Garfield: A Tail of Two Kitties</td>\n",
       "      <td>en</td>\n",
       "      <td>2006-06-15</td>\n",
       "      <td>5.579</td>\n",
       "      <td>2157</td>\n",
       "      <td>27.613</td>\n",
       "      <td>Jon and Garfield visit the United Kingdom, whe...</td>\n",
       "      <td>[16, 35, 10751, 12, 18, 14]</td>\n",
       "      <td>['Animation', 'Comedy', 'Family', 'Adventure',...</td>\n",
       "    </tr>\n",
       "  </tbody>\n",
       "</table>\n",
       "</div>"
      ],
      "text/plain": [
       "          id                                    title original_language  \\\n",
       "36    704264                Primal: Tales of Savagery                en   \n",
       "87      8587                            The Lion King                en   \n",
       "204   555604           Guillermo del Toro's Pinocchio                en   \n",
       "288   339877                           Loving Vincent                en   \n",
       "328   574074                                  Kitbull                en   \n",
       "400   150540                               Inside Out                en   \n",
       "502   435129                          The Breadwinner                en   \n",
       "516   293299                                    Feast                en   \n",
       "529   303867                        World of Tomorrow                en   \n",
       "549   779047                                 Us Again                en   \n",
       "726   486589           Red Shoes and the Seven Dwarfs                en   \n",
       "782     9023         Spirit: Stallion of the Cimarron                en   \n",
       "786   713776           If Anything Happens I Love You                en   \n",
       "1355    9081                              Waking Life                en   \n",
       "1361    9081                              Waking Life                en   \n",
       "1391   14919             Batman: Mask of the Phantasm                en   \n",
       "1566  487670                    The Death of Superman                en   \n",
       "1624   37135                                   Tarzan                en   \n",
       "2092    9837                      The Prince of Egypt                en   \n",
       "2441   11837                           Watership Down                en   \n",
       "2656   10948                    The Fox and the Hound                en   \n",
       "2755   10545              The Hunchback of Notre Dame                en   \n",
       "2757  291270                                Anomalisa                en   \n",
       "2767  420818                            The Lion King                en   \n",
       "3158  926899                                The House                en   \n",
       "3183    3170                                    Bambi                en   \n",
       "3330   11848                              Animal Farm                en   \n",
       "3486  116440  Maggie Simpson in \"The Longest Daycare\"                en   \n",
       "3934   18937                        Quest for Camelot                en   \n",
       "4268   15171                          Charlotte's Web                en   \n",
       "4329   51052                         Arthur Christmas                en   \n",
       "4331   11497                    All Dogs Go to Heaven                en   \n",
       "4534    4978                         An American Tail                en   \n",
       "4896   65291           Green Lantern: Emerald Knights                en   \n",
       "5131  382322                 Batman: The Killing Joke                en   \n",
       "5446   13205                                 Bambi II                en   \n",
       "6138  152795                             The Congress                en   \n",
       "7174   12593                            Fritz the Cat                en   \n",
       "8778    9513          Garfield: A Tail of Two Kitties                en   \n",
       "\n",
       "     release_date  vote_average  vote_count  popularity  \\\n",
       "36     2019-11-21         8.395         311      14.896   \n",
       "87     1994-06-24         8.257       18081     131.119   \n",
       "204    2022-11-09         8.095        2853      36.367   \n",
       "288    2017-06-22         8.004        2417      16.001   \n",
       "328    2019-01-18         7.967         363      29.134   \n",
       "400    2015-06-17         7.914       21669     231.491   \n",
       "502    2017-11-17         7.800         818      11.099   \n",
       "516    2014-10-25         7.841         838       7.906   \n",
       "529    2015-01-22         7.830         314       6.341   \n",
       "549    2021-03-03         7.800         311      23.821   \n",
       "726    2019-07-25         7.725        1071      35.423   \n",
       "782    2002-05-24         7.696        4511      67.378   \n",
       "786    2020-03-07         7.694         872       6.470   \n",
       "1355   2001-10-19         7.479         856      12.296   \n",
       "1361   2001-10-19         7.479         856      12.296   \n",
       "1391   1993-12-25         7.500        1077      33.666   \n",
       "1566   2018-07-24         7.419         732      15.723   \n",
       "1624   1999-06-18         7.403        6650      65.184   \n",
       "2092   1998-12-16         7.281        3914      52.641   \n",
       "2441   1978-10-14         7.194         605      10.689   \n",
       "2656   1981-07-10         7.142        3174      40.485   \n",
       "2755   1996-06-21         7.117        4922      47.956   \n",
       "2757   2015-12-30         7.100        1659       9.714   \n",
       "2767   2019-07-12         7.114        9885     128.055   \n",
       "3158   2022-01-14         7.020        1005      25.289   \n",
       "3183   1942-02-11         7.016        5567      42.570   \n",
       "3330   1954-12-28         6.981         465      15.777   \n",
       "3486   2012-07-12         6.947         358      11.558   \n",
       "3934   1998-05-15         6.845         791      24.015   \n",
       "4268   1973-03-01         6.800         369      14.296   \n",
       "4329   2011-11-10         6.800        1433      17.475   \n",
       "4331   1989-11-17         6.800        1008      22.301   \n",
       "4534   1986-11-21         6.716        1310      11.237   \n",
       "4896   2011-04-09         6.600         486      12.403   \n",
       "5131   2016-07-24         6.588        1777      19.990   \n",
       "5446   2006-01-26         6.521         970      29.063   \n",
       "6138   2013-07-03         6.374         510      10.737   \n",
       "7174   1972-04-12         6.128         317      14.916   \n",
       "8778   2006-06-15         5.579        2157      27.613   \n",
       "\n",
       "                                               overview  \\\n",
       "36    Genndy Tartakovsky's Primal: Tales of Savagery...   \n",
       "87    A young lion prince is cast out of his pride b...   \n",
       "204   During the rise of fascism in Mussolini's Ital...   \n",
       "288   A young man arrives at the last hometown of pa...   \n",
       "328   An unlikely connection sparks between two crea...   \n",
       "400   When 11-year-old Riley moves to a new city, he...   \n",
       "502   A headstrong young girl in Afghanistan, ruled ...   \n",
       "516   This Oscar-winning animated short film tells t...   \n",
       "529   A little girl is taken on a mind-bending tour ...   \n",
       "549   In a vibrant city pulsating with rhythm and mo...   \n",
       "726   Princes who have been turned into Dwarfs seek ...   \n",
       "782   A captured mustang remains determined to retur...   \n",
       "786   In this Oscar-winning short film, grieving par...   \n",
       "1355  Waking Life is about a young man in a persiste...   \n",
       "1361  Waking Life is about a young man in a persiste...   \n",
       "1391  When a powerful criminal, who is connected to ...   \n",
       "1566  When a hulking monster arrives on Earth and be...   \n",
       "1624  Tarzan was a small orphan who was raised by an...   \n",
       "2092  The strong bond between two brothers is challe...   \n",
       "2441  When the warren belonging to a community of ra...   \n",
       "2656  When a feisty little fox named Tod is adopted ...   \n",
       "2755  Isolated bell-ringer Quasimodo wishes to leave...   \n",
       "2757  An inspirational speaker becomes reinvigorated...   \n",
       "2767  Simba idolizes his father, King Mufasa, and ta...   \n",
       "3158  Across different eras, a poor family, an anxio...   \n",
       "3183  Bambi's tale unfolds from season to season as ...   \n",
       "3330  Animals on a farm lead a revolution against th...   \n",
       "3486  Maggie must navigate an eventful first day in ...   \n",
       "3934  During the times of King Arthur, Kayley is a b...   \n",
       "4268  Wilbur the pig is scared of the end of the sea...   \n",
       "4329  Each Christmas, Santa and his vast army of hig...   \n",
       "4331  When a casino-owning dog named Charlie is murd...   \n",
       "4534  A young mouse named Fievel and his family deci...   \n",
       "4896  As the home planet of the Green Lantern Corps ...   \n",
       "5131  As Batman hunts for the escaped Joker, the Clo...   \n",
       "5446  Return to the forest and join Bambi as he reun...   \n",
       "6138  An aging, out-of-work actress accepts one last...   \n",
       "7174  A swinging, hypocritical college student cat r...   \n",
       "8778  Jon and Garfield visit the United Kingdom, whe...   \n",
       "\n",
       "                               genre_ids  \\\n",
       "36                      [28, 12, 16, 18]   \n",
       "87                       [10751, 16, 18]   \n",
       "204                         [16, 14, 18]   \n",
       "288                   [16, 18, 9648, 36]   \n",
       "328                      [16, 10751, 18]   \n",
       "400              [16, 10751, 12, 18, 35]   \n",
       "502               [16, 10752, 18, 10751]   \n",
       "516                  [16, 35, 18, 10751]   \n",
       "529                        [16, 18, 878]   \n",
       "549                      [16, 18, 10751]   \n",
       "726       [16, 14, 18, 10751, 35, 10749]   \n",
       "782   [16, 12, 35, 10751, 18, 37, 10749]   \n",
       "786                             [18, 16]   \n",
       "1355                            [16, 18]   \n",
       "1361                            [16, 18]   \n",
       "1391              [28, 16, 80, 9648, 18]   \n",
       "1566                   [878, 16, 28, 18]   \n",
       "1624                 [10751, 12, 16, 18]   \n",
       "2092                 [12, 16, 18, 10751]   \n",
       "2441                        [12, 16, 18]   \n",
       "2656                 [12, 16, 18, 10751]   \n",
       "2755                     [18, 16, 10751]   \n",
       "2757                 [16, 18, 10749, 35]   \n",
       "2767                 [16, 12, 18, 10751]   \n",
       "3158                [16, 18, 35, 27, 14]   \n",
       "3183                     [16, 18, 10751]   \n",
       "3330                            [16, 18]   \n",
       "3486                 [16, 18, 10751, 35]   \n",
       "3934          [14, 16, 18, 10749, 10751]   \n",
       "4268          [10751, 10402, 16, 18, 35]   \n",
       "4329                 [18, 16, 10751, 35]   \n",
       "4331             [18, 16, 10751, 35, 14]   \n",
       "4534             [16, 35, 12, 18, 10751]   \n",
       "4896               [28, 12, 16, 878, 18]   \n",
       "5131                    [28, 16, 80, 18]   \n",
       "5446                     [16, 18, 10751]   \n",
       "6138                       [18, 878, 16]   \n",
       "7174                        [16, 35, 18]   \n",
       "8778         [16, 35, 10751, 12, 18, 14]   \n",
       "\n",
       "                                                 Genres  \n",
       "36        ['Action', 'Adventure', 'Animation', 'Drama']  \n",
       "87                     ['Family', 'Animation', 'Drama']  \n",
       "204                   ['Animation', 'Fantasy', 'Drama']  \n",
       "288        ['Animation', 'Drama', 'Mystery', 'History']  \n",
       "328                    ['Animation', 'Family', 'Drama']  \n",
       "400   ['Animation', 'Family', 'Adventure', 'Drama', ...  \n",
       "502             ['Animation', 'War', 'Drama', 'Family']  \n",
       "516          ['Animation', 'Comedy', 'Drama', 'Family']  \n",
       "529           ['Animation', 'Drama', 'Science Fiction']  \n",
       "549                    ['Animation', 'Drama', 'Family']  \n",
       "726   ['Animation', 'Fantasy', 'Drama', 'Family', 'C...  \n",
       "782   ['Animation', 'Adventure', 'Comedy', 'Family',...  \n",
       "786                              ['Drama', 'Animation']  \n",
       "1355                             ['Animation', 'Drama']  \n",
       "1361                             ['Animation', 'Drama']  \n",
       "1391  ['Action', 'Animation', 'Crime', 'Mystery', 'D...  \n",
       "1566  ['Science Fiction', 'Animation', 'Action', 'Dr...  \n",
       "1624      ['Family', 'Adventure', 'Animation', 'Drama']  \n",
       "2092      ['Adventure', 'Animation', 'Drama', 'Family']  \n",
       "2441                ['Adventure', 'Animation', 'Drama']  \n",
       "2656      ['Adventure', 'Animation', 'Drama', 'Family']  \n",
       "2755                   ['Drama', 'Animation', 'Family']  \n",
       "2757        ['Animation', 'Drama', 'Romance', 'Comedy']  \n",
       "2767      ['Animation', 'Adventure', 'Drama', 'Family']  \n",
       "3158  ['Animation', 'Drama', 'Comedy', 'Horror', 'Fa...  \n",
       "3183                   ['Animation', 'Drama', 'Family']  \n",
       "3330                             ['Animation', 'Drama']  \n",
       "3486         ['Animation', 'Drama', 'Family', 'Comedy']  \n",
       "3934  ['Fantasy', 'Animation', 'Drama', 'Romance', '...  \n",
       "4268  ['Family', 'Music', 'Animation', 'Drama', 'Com...  \n",
       "4329         ['Drama', 'Animation', 'Family', 'Comedy']  \n",
       "4331  ['Drama', 'Animation', 'Family', 'Comedy', 'Fa...  \n",
       "4534  ['Animation', 'Comedy', 'Adventure', 'Drama', ...  \n",
       "4896  ['Action', 'Adventure', 'Animation', 'Science ...  \n",
       "5131          ['Action', 'Animation', 'Crime', 'Drama']  \n",
       "5446                   ['Animation', 'Drama', 'Family']  \n",
       "6138          ['Drama', 'Science Fiction', 'Animation']  \n",
       "7174                   ['Animation', 'Comedy', 'Drama']  \n",
       "8778  ['Animation', 'Comedy', 'Family', 'Adventure',...  "
      ]
     },
     "execution_count": 89,
     "metadata": {},
     "output_type": "execute_result"
    }
   ],
   "source": [
    "english_movies[english_movies['Genres'].apply(lambda x: 'Animation' in x and 'Drama' in x)]"
   ]
  },
  {
   "cell_type": "code",
   "execution_count": 76,
   "id": "e6340cc8-5b96-4a90-9cb4-2208ee1b7236",
   "metadata": {},
   "outputs": [
    {
     "data": {
      "text/plain": [
       "0                                      ['Drama', 'Crime']\n",
       "1                                      ['Drama', 'Crime']\n",
       "2                                      ['Drama', 'Crime']\n",
       "3                             ['Drama', 'History', 'War']\n",
       "4                                               ['Drama']\n",
       "                              ...                        \n",
       "9625                      ['Action', 'Fantasy', 'Horror']\n",
       "9626                                           ['Comedy']\n",
       "9627                     ['Horror', 'Action', 'Thriller']\n",
       "9628    ['Action', 'Adventure', 'Fantasy', 'Science Fi...\n",
       "9629                    ['Romance', 'Horror', 'Thriller']\n",
       "Name: Genres, Length: 7640, dtype: object"
      ]
     },
     "execution_count": 76,
     "metadata": {},
     "output_type": "execute_result"
    }
   ],
   "source": [
    "english_movies['Genres']"
   ]
  },
  {
   "cell_type": "code",
   "execution_count": null,
   "id": "17fac46c-37e9-4ffb-aa71-2207bd585eec",
   "metadata": {},
   "outputs": [],
   "source": []
  }
 ],
 "metadata": {
  "kernelspec": {
   "display_name": "Python 3 (ipykernel)",
   "language": "python",
   "name": "python3"
  },
  "language_info": {
   "codemirror_mode": {
    "name": "ipython",
    "version": 3
   },
   "file_extension": ".py",
   "mimetype": "text/x-python",
   "name": "python",
   "nbconvert_exporter": "python",
   "pygments_lexer": "ipython3",
   "version": "3.12.4"
  }
 },
 "nbformat": 4,
 "nbformat_minor": 5
}
